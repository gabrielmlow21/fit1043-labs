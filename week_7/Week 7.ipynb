{
 "cells": [
  {
   "cell_type": "markdown",
   "id": "9db2bc5f",
   "metadata": {},
   "source": [
    "# Activity 1: Classification"
   ]
  },
  {
   "cell_type": "code",
   "execution_count": 2,
   "id": "d65ef07e",
   "metadata": {},
   "outputs": [],
   "source": [
    "import numpy as np\n",
    "import pandas as pd\n",
    "import matplotlib.pyplot as plt\n",
    "\n",
    "dataset = pd.read_csv('TravelInfo.csv')"
   ]
  },
  {
   "cell_type": "code",
   "execution_count": 3,
   "id": "ffa8f00d",
   "metadata": {},
   "outputs": [
    {
     "data": {
      "text/plain": [
       "(400, 3)"
      ]
     },
     "execution_count": 3,
     "metadata": {},
     "output_type": "execute_result"
    }
   ],
   "source": [
    "dataset.shape"
   ]
  },
  {
   "cell_type": "code",
   "execution_count": 4,
   "id": "2b0ec3df",
   "metadata": {},
   "outputs": [
    {
     "data": {
      "text/html": [
       "<div>\n",
       "<style scoped>\n",
       "    .dataframe tbody tr th:only-of-type {\n",
       "        vertical-align: middle;\n",
       "    }\n",
       "\n",
       "    .dataframe tbody tr th {\n",
       "        vertical-align: top;\n",
       "    }\n",
       "\n",
       "    .dataframe thead th {\n",
       "        text-align: right;\n",
       "    }\n",
       "</style>\n",
       "<table border=\"1\" class=\"dataframe\">\n",
       "  <thead>\n",
       "    <tr style=\"text-align: right;\">\n",
       "      <th></th>\n",
       "      <th>Age</th>\n",
       "      <th>Income</th>\n",
       "      <th>TravelAbroad</th>\n",
       "    </tr>\n",
       "  </thead>\n",
       "  <tbody>\n",
       "    <tr>\n",
       "      <th>0</th>\n",
       "      <td>22</td>\n",
       "      <td>25000</td>\n",
       "      <td>0</td>\n",
       "    </tr>\n",
       "    <tr>\n",
       "      <th>1</th>\n",
       "      <td>38</td>\n",
       "      <td>26000</td>\n",
       "      <td>0</td>\n",
       "    </tr>\n",
       "    <tr>\n",
       "      <th>2</th>\n",
       "      <td>29</td>\n",
       "      <td>49000</td>\n",
       "      <td>0</td>\n",
       "    </tr>\n",
       "    <tr>\n",
       "      <th>3</th>\n",
       "      <td>30</td>\n",
       "      <td>63000</td>\n",
       "      <td>0</td>\n",
       "    </tr>\n",
       "    <tr>\n",
       "      <th>4</th>\n",
       "      <td>22</td>\n",
       "      <td>82000</td>\n",
       "      <td>0</td>\n",
       "    </tr>\n",
       "  </tbody>\n",
       "</table>\n",
       "</div>"
      ],
      "text/plain": [
       "   Age  Income  TravelAbroad\n",
       "0   22   25000             0\n",
       "1   38   26000             0\n",
       "2   29   49000             0\n",
       "3   30   63000             0\n",
       "4   22   82000             0"
      ]
     },
     "execution_count": 4,
     "metadata": {},
     "output_type": "execute_result"
    }
   ],
   "source": [
    "dataset.head()"
   ]
  },
  {
   "cell_type": "code",
   "execution_count": 13,
   "id": "f8b69085",
   "metadata": {},
   "outputs": [],
   "source": [
    "X = dataset.iloc[:, [0, 1]].values    # Input Data: Age and Income\n",
    "y = dataset.iloc[:, 2].values         # Labeled Data: Travelled or not"
   ]
  },
  {
   "cell_type": "code",
   "execution_count": 14,
   "id": "6fd74816",
   "metadata": {},
   "outputs": [
    {
     "data": {
      "text/plain": [
       "array([[    22,  25000],\n",
       "       [    38,  26000],\n",
       "       [    29,  49000],\n",
       "       [    30,  63000],\n",
       "       [    22,  82000],\n",
       "       [    30,  64000],\n",
       "       [    30,  90000],\n",
       "       [    35, 156000],\n",
       "       [    28,  39000],\n",
       "       [    38,  71000],\n",
       "       [    29,  86000],\n",
       "       [    29,  58000],\n",
       "       [    23,  92000],\n",
       "       [    35,  24000],\n",
       "       [    21,  88000],\n",
       "       [    32,  86000],\n",
       "       [    50,  31000],\n",
       "       [    48,  32000],\n",
       "       [    49,  34000],\n",
       "       [    51,  35000],\n",
       "       [    48,  28000],\n",
       "       [    50,  55000],\n",
       "       [    51,  47000],\n",
       "       [    48,  28000],\n",
       "       [    49,  29000],\n",
       "       [    50,  26000],\n",
       "       [    52,  34000],\n",
       "       [    50,  36000],\n",
       "       [    32,  49000],\n",
       "       [    34,  24000],\n",
       "       [    34,  80000],\n",
       "       [    30, 143000],\n",
       "       [    24,  22000],\n",
       "       [    31,  50000],\n",
       "       [    30,  96000],\n",
       "       [    38,  33000],\n",
       "       [    36,  34000],\n",
       "       [    33,  55000],\n",
       "       [    29,  78000],\n",
       "       [    30,  37000],\n",
       "       [    30,  23000],\n",
       "       [    36,  57000],\n",
       "       [    38, 114000],\n",
       "       [    33,  21000],\n",
       "       [    31,  90000],\n",
       "       [    26,  26000],\n",
       "       [    28,  85000],\n",
       "       [    30,  60000],\n",
       "       [    33, 141000],\n",
       "       [    34,  95000],\n",
       "       [    27,  38000],\n",
       "       [    21,  50000],\n",
       "       [    32,  89000],\n",
       "       [    38,  29000],\n",
       "       [    30,  64000],\n",
       "       [    27,  61000],\n",
       "       [    26,  54000],\n",
       "       [    31,  85000],\n",
       "       [    25,  24000],\n",
       "       [    35, 123000],\n",
       "       [    30,  26000],\n",
       "       [    28,  93000],\n",
       "       [    26,  72000],\n",
       "       [    35, 126000],\n",
       "       [    62,  89000],\n",
       "       [    27,  64000],\n",
       "       [    27,  25000],\n",
       "       [    26,  88000],\n",
       "       [    25,  69000],\n",
       "       [    34,  74000],\n",
       "       [    28,  86000],\n",
       "       [    27,  33000],\n",
       "       [    23,  29000],\n",
       "       [    36, 119000],\n",
       "       [    35,  24000],\n",
       "       [    37, 118000],\n",
       "       [    21,  58000],\n",
       "       [    25,  33000],\n",
       "       [    31,  93000],\n",
       "       [    29,  23000],\n",
       "       [    33,  86000],\n",
       "       [    42,  48000],\n",
       "       [    23,  55000],\n",
       "       [    38,  94000],\n",
       "       [    33,  68000],\n",
       "       [    34, 124000],\n",
       "       [    27,  61000],\n",
       "       [    31,  91000],\n",
       "       [    29,  87000],\n",
       "       [    38,  56000],\n",
       "       [    25,  87000],\n",
       "       [    33, 122000],\n",
       "       [    29,  21000],\n",
       "       [    32,  34000],\n",
       "       [    32,  89000],\n",
       "       [    38,  50000],\n",
       "       [    38,  31000],\n",
       "       [    31, 129000],\n",
       "       [    38,  79000],\n",
       "       [    31,  43000],\n",
       "       [    30,  94000],\n",
       "       [    31,  65000],\n",
       "       [    35,  92000],\n",
       "       [    36, 155000],\n",
       "       [    22,  27000],\n",
       "       [    24,  78000],\n",
       "       [    29,  41000],\n",
       "       [    30,  95000],\n",
       "       [    29,  92000],\n",
       "       [    41,  86000],\n",
       "       [    42,  77000],\n",
       "       [    40,  77000],\n",
       "       [    41,  67000],\n",
       "       [    40,  61000],\n",
       "       [    45,  86000],\n",
       "       [    43,  63000],\n",
       "       [    38,  81000],\n",
       "       [    39,  58000],\n",
       "       [    43,  65000],\n",
       "       [    44,  65000],\n",
       "       [    39,  81000],\n",
       "       [    40,  78000],\n",
       "       [    43,  81000],\n",
       "       [    38,  59000],\n",
       "       [    44,  57000],\n",
       "       [    42,  67000],\n",
       "       [    45,  71000],\n",
       "       [    29,  38000],\n",
       "       [    33,  23000],\n",
       "       [    29,  90000],\n",
       "       [    34,  64000],\n",
       "       [    36,  37000],\n",
       "       [    33,  93000],\n",
       "       [    24,  74000],\n",
       "       [    31,  61000],\n",
       "       [    26,  69000],\n",
       "       [    23,  88000],\n",
       "       [    33, 113000],\n",
       "       [    31,  65000],\n",
       "       [    22,  31000],\n",
       "       [    22,  91000],\n",
       "       [    21,  74000],\n",
       "       [    38,  65000],\n",
       "       [    33,  95000],\n",
       "       [    37,  31000],\n",
       "       [    27,  95000],\n",
       "       [    30, 102000],\n",
       "       [    44,  36000],\n",
       "       [    32,  67000],\n",
       "       [    23,  80000],\n",
       "       [    29,  21000],\n",
       "       [    44,  51000],\n",
       "       [    34,  82000],\n",
       "       [    39,  56000],\n",
       "       [    43,  53000],\n",
       "       [    34,  21000],\n",
       "       [    49,  65000],\n",
       "       [    32,  81000],\n",
       "       [    29,  36000],\n",
       "       [    35, 141000],\n",
       "       [    35, 106000],\n",
       "       [    28,  96000],\n",
       "       [    40,  39000],\n",
       "       [    38,  44000],\n",
       "       [    36,  75000],\n",
       "       [    21,  92000],\n",
       "       [    25,  61000],\n",
       "       [    38,  77000],\n",
       "       [    32, 154000],\n",
       "       [    32,  53000],\n",
       "       [    24,  94000],\n",
       "       [    37, 121000],\n",
       "       [    29, 124000],\n",
       "       [    37,  49000],\n",
       "       [    37,  78000],\n",
       "       [    26,  34000],\n",
       "       [    38,  53000],\n",
       "       [    28,  28000],\n",
       "       [    27,  29000],\n",
       "       [    34,  40000],\n",
       "       [    29,  22000],\n",
       "       [    34,  77000],\n",
       "       [    35, 123000],\n",
       "       [    36,  49000],\n",
       "       [    36,  66000],\n",
       "       [    34,  72000],\n",
       "       [    23,  88000],\n",
       "       [    36,  47000],\n",
       "       [    38,  78000],\n",
       "       [    31,  38000],\n",
       "       [    27,  90000],\n",
       "       [    22,  32000],\n",
       "       [    32,  49000],\n",
       "       [    22,  76000],\n",
       "       [    31,  95000],\n",
       "       [    37,  49000],\n",
       "       [    33,  85000],\n",
       "       [    23,  42000],\n",
       "       [    29,  86000],\n",
       "       [    38,  28000],\n",
       "       [    38,  45000],\n",
       "       [    52,  80000],\n",
       "       [    42, 140000],\n",
       "       [    44,  77000],\n",
       "       [    61, 107000],\n",
       "       [    50,  53000],\n",
       "       [    58, 136000],\n",
       "       [    55, 120000],\n",
       "       [    43, 148000],\n",
       "       [    49,  28000],\n",
       "       [    51, 102000],\n",
       "       [    55, 156000],\n",
       "       [    62,  48000],\n",
       "       [    38,  64000],\n",
       "       [    50,  49000],\n",
       "       [    63, 114000],\n",
       "       [    52,  71000],\n",
       "       [    43,  84000],\n",
       "       [    49, 102000],\n",
       "       [    62, 149000],\n",
       "       [    44,  86000],\n",
       "       [    38,  97000],\n",
       "       [    40, 150000],\n",
       "       [    63, 108000],\n",
       "       [    38,  66000],\n",
       "       [    40,  59000],\n",
       "       [    39, 132000],\n",
       "       [    59, 139000],\n",
       "       [    43,  78000],\n",
       "       [    45,  86000],\n",
       "       [    38, 153000],\n",
       "       [    42,  48000],\n",
       "       [    43, 113000],\n",
       "       [    52,  92000],\n",
       "       [    41, 118000],\n",
       "       [    49,  85000],\n",
       "       [    43,  63000],\n",
       "       [    40,  86000],\n",
       "       [    49,  88000],\n",
       "       [    56, 149000],\n",
       "       [    45, 155000],\n",
       "       [    41,  65000],\n",
       "       [    53,  94000],\n",
       "       [    59, 110000],\n",
       "       [    44,  78000],\n",
       "       [    54, 152000],\n",
       "       [    38,  56000],\n",
       "       [    60, 128000],\n",
       "       [    44,  58000],\n",
       "       [    38, 103000],\n",
       "       [    47,  45000],\n",
       "       [    40,  58000],\n",
       "       [    51, 140000],\n",
       "       [    40, 152000],\n",
       "       [    53,  50000],\n",
       "       [    55,  96000],\n",
       "       [    44,  78000],\n",
       "       [    43,  63000],\n",
       "       [    61, 101000],\n",
       "       [    48, 137000],\n",
       "       [    38,  83000],\n",
       "       [    39, 150000],\n",
       "       [    58, 131000],\n",
       "       [    38,  78000],\n",
       "       [    51,  96000],\n",
       "       [    45, 114000],\n",
       "       [    43,  81000],\n",
       "       [    40,  80000],\n",
       "       [    50, 150000],\n",
       "       [    43,  67000],\n",
       "       [    46, 139000],\n",
       "       [    62,  82000],\n",
       "       [    63,  48000],\n",
       "       [    42, 112000],\n",
       "       [    60,  32000],\n",
       "       [    60,  80000],\n",
       "       [    41,  77000],\n",
       "       [    52,  94000],\n",
       "       [    55,  44000],\n",
       "       [    53,  42000],\n",
       "       [    62,  94000],\n",
       "       [    38,  67000],\n",
       "       [    40,  76000],\n",
       "       [    55,  27000],\n",
       "       [    51, 147000],\n",
       "       [    40,  99000],\n",
       "       [    40,  68000],\n",
       "       [    51, 144000],\n",
       "       [    44,  85000],\n",
       "       [    40,  84000],\n",
       "       [    42, 140000],\n",
       "       [    52,  95000],\n",
       "       [    58,  45000],\n",
       "       [    40,  83000],\n",
       "       [    38,  63000],\n",
       "       [    39,  69000],\n",
       "       [    45,  79000],\n",
       "       [    46, 118000],\n",
       "       [    48,  85000],\n",
       "       [    49, 123000],\n",
       "       [    61,  44000],\n",
       "       [    51,  80000],\n",
       "       [    40, 143000],\n",
       "       [    40,  85000],\n",
       "       [    43,  66000],\n",
       "       [    45,  60000],\n",
       "       [    54, 140000],\n",
       "       [    50, 119000],\n",
       "       [    39, 131000],\n",
       "       [    41,  56000],\n",
       "       [    45,  76000],\n",
       "       [    42, 102000],\n",
       "       [    41,  56000],\n",
       "       [    52, 147000],\n",
       "       [    42,  85000],\n",
       "       [    42,  81000],\n",
       "       [    57, 110000],\n",
       "       [    38,  61000],\n",
       "       [    48,  38000],\n",
       "       [    39,  66000],\n",
       "       [    55, 144000],\n",
       "       [    56,  88000],\n",
       "       [    44,  58000],\n",
       "       [    51,  36000],\n",
       "       [    51, 137000],\n",
       "       [    44,  66000],\n",
       "       [    44,  78000],\n",
       "       [    45,  81000],\n",
       "       [    39, 124000],\n",
       "       [    50, 113000],\n",
       "       [    41,  57000],\n",
       "       [    51, 125000],\n",
       "       [    45,  71000],\n",
       "       [    43,  71000],\n",
       "       [    60,  66000],\n",
       "       [    39,  60000],\n",
       "       [    61, 150000],\n",
       "       [    38,  85000],\n",
       "       [    41,  61000],\n",
       "       [    42, 128000],\n",
       "       [    56, 110000],\n",
       "       [    38,  81000],\n",
       "       [    41,  71000],\n",
       "       [    50,  57000],\n",
       "       [    50, 111000],\n",
       "       [    44,  69000],\n",
       "       [    56,  78000],\n",
       "       [    57, 114000],\n",
       "       [    42,  83000],\n",
       "       [    41,  67000],\n",
       "       [    41, 119000],\n",
       "       [    40,  81000],\n",
       "       [    45,  96000],\n",
       "       [    40,  63000],\n",
       "       [    39, 105000],\n",
       "       [    63,  40000],\n",
       "       [    57,  76000],\n",
       "       [    44,  78000],\n",
       "       [    43,  77000],\n",
       "       [    45,  60000],\n",
       "       [    46, 135000],\n",
       "       [    56,  40000],\n",
       "       [    50,  56000],\n",
       "       [    45,  85000],\n",
       "       [    45, 110000],\n",
       "       [    62,  35000],\n",
       "       [    61,  53000],\n",
       "       [    49,  94000],\n",
       "       [    41,  77000],\n",
       "       [    57,  32000],\n",
       "       [    63,  52000],\n",
       "       [    63,  89000],\n",
       "       [    42,  79000],\n",
       "       [    62, 136000],\n",
       "       [    40,  86000],\n",
       "       [    49,  38000],\n",
       "       [    49,  80000],\n",
       "       [    45,  59000],\n",
       "       [    44,  93000],\n",
       "       [    61,  29000],\n",
       "       [    45,  70000],\n",
       "       [    51,  39000],\n",
       "       [    47, 145000],\n",
       "       [    52,  34000],\n",
       "       [    60,  39000],\n",
       "       [    59,  66000],\n",
       "       [    52,  45000],\n",
       "       [    42,  77000],\n",
       "       [    50,  40000],\n",
       "       [    51,  41000],\n",
       "       [    51,  39000],\n",
       "       [    50,  29000],\n",
       "       [    48,  51000],\n",
       "       [    63,  48000],\n",
       "       [    42,  65000],\n",
       "       [    49,  47000],\n",
       "       [    54,  29000],\n",
       "       [    53,  26000],\n",
       "       [    39,  39000],\n",
       "       [    52,  42000]], dtype=int64)"
      ]
     },
     "execution_count": 14,
     "metadata": {},
     "output_type": "execute_result"
    }
   ],
   "source": [
    "X"
   ]
  },
  {
   "cell_type": "code",
   "execution_count": 12,
   "id": "2b1796a3",
   "metadata": {},
   "outputs": [
    {
     "data": {
      "text/plain": [
       "array([0, 0, 0, 0, 0, 0, 0, 1, 0, 0, 0, 0, 0, 0, 0, 0, 1, 1, 1, 1, 1, 1,\n",
       "       1, 1, 1, 1, 1, 1, 0, 0, 0, 1, 0, 0, 0, 0, 0, 0, 0, 0, 0, 0, 0, 0,\n",
       "       0, 0, 0, 0, 1, 0, 0, 0, 0, 0, 0, 0, 0, 0, 0, 0, 0, 0, 0, 1, 0, 0,\n",
       "       0, 0, 0, 0, 0, 0, 0, 0, 0, 1, 0, 0, 0, 0, 0, 0, 0, 0, 0, 1, 0, 0,\n",
       "       0, 0, 0, 0, 0, 0, 0, 0, 0, 1, 0, 0, 0, 0, 0, 1, 0, 0, 0, 0, 0, 0,\n",
       "       0, 0, 0, 0, 0, 0, 0, 0, 0, 0, 0, 0, 0, 0, 0, 0, 0, 0, 0, 0, 0, 0,\n",
       "       0, 0, 0, 0, 0, 1, 0, 0, 0, 0, 0, 0, 0, 0, 1, 0, 0, 0, 0, 0, 0, 0,\n",
       "       0, 0, 0, 0, 0, 1, 1, 0, 0, 0, 0, 0, 0, 0, 1, 0, 0, 0, 0, 0, 0, 0,\n",
       "       0, 0, 0, 0, 0, 0, 1, 0, 0, 0, 0, 0, 0, 0, 0, 0, 0, 0, 0, 0, 0, 0,\n",
       "       0, 0, 0, 0, 1, 0, 1, 0, 1, 0, 1, 0, 1, 1, 0, 0, 0, 1, 0, 0, 0, 1,\n",
       "       0, 1, 1, 1, 0, 0, 1, 1, 0, 1, 1, 0, 1, 1, 0, 1, 0, 0, 0, 1, 1, 0,\n",
       "       1, 1, 0, 1, 0, 1, 0, 1, 0, 0, 1, 1, 0, 1, 0, 0, 1, 1, 0, 1, 1, 0,\n",
       "       1, 1, 0, 0, 1, 0, 0, 1, 1, 1, 1, 1, 0, 1, 1, 1, 1, 0, 1, 1, 0, 1,\n",
       "       0, 1, 0, 1, 1, 1, 1, 0, 0, 0, 1, 1, 0, 1, 1, 1, 1, 1, 0, 0, 0, 1,\n",
       "       1, 0, 0, 1, 0, 1, 0, 1, 1, 0, 1, 0, 1, 1, 0, 1, 1, 0, 0, 0, 1, 1,\n",
       "       0, 1, 0, 0, 1, 0, 1, 0, 0, 1, 1, 0, 0, 1, 1, 0, 1, 1, 0, 0, 1, 0,\n",
       "       1, 0, 1, 1, 1, 0, 1, 0, 1, 1, 1, 0, 1, 1, 1, 1, 0, 1, 1, 1, 0, 1,\n",
       "       0, 1, 0, 0, 1, 1, 0, 1, 1, 1, 1, 1, 1, 0, 1, 1, 1, 1, 1, 1, 0, 1,\n",
       "       1, 1, 0, 1], dtype=int64)"
      ]
     },
     "execution_count": 12,
     "metadata": {},
     "output_type": "execute_result"
    }
   ],
   "source": [
    "y"
   ]
  },
  {
   "cell_type": "code",
   "execution_count": 15,
   "id": "0be0db6a",
   "metadata": {},
   "outputs": [],
   "source": [
    "from sklearn.model_selection import train_test_split\n",
    "X_train, X_test, y_train, y_test = train_test_split(\n",
    "    X, y, test_size = 0.25, random_state = 0\n",
    ")"
   ]
  },
  {
   "cell_type": "markdown",
   "id": "141d5253",
   "metadata": {},
   "source": [
    "## Feature Scaling or Normalization"
   ]
  },
  {
   "cell_type": "code",
   "execution_count": 21,
   "id": "9989d94c",
   "metadata": {},
   "outputs": [],
   "source": [
    "# Feature Scaling\n",
    "from sklearn.preprocessing import StandardScaler\n",
    "sc = StandardScaler()"
   ]
  },
  {
   "cell_type": "code",
   "execution_count": 22,
   "id": "271aef66",
   "metadata": {},
   "outputs": [],
   "source": [
    "X_train = sc.fit_transform(X_train)\n",
    "X_test = sc.transform(X_test)"
   ]
  },
  {
   "cell_type": "code",
   "execution_count": 23,
   "id": "95200d79",
   "metadata": {},
   "outputs": [
    {
     "data": {
      "text/plain": [
       "array([[ 0.97777845, -1.14764529],\n",
       "       [-0.90383437, -0.77073441],\n",
       "       [-0.21060859, -0.50979612],\n",
       "       [-1.10189888, -0.45180983],\n",
       "       [-1.20093113,  1.40375139]])"
      ]
     },
     "execution_count": 23,
     "metadata": {},
     "output_type": "execute_result"
    }
   ],
   "source": [
    "X_train[-5:]"
   ]
  },
  {
   "cell_type": "code",
   "execution_count": 24,
   "id": "db8fae2c",
   "metadata": {},
   "outputs": [
    {
     "data": {
      "text/plain": [
       "array([[-1.10189888,  0.76590222],\n",
       "       [-1.49802789, -0.19087153],\n",
       "       [ 0.97777845, -1.06066585],\n",
       "       [ 0.97777845,  0.59194336],\n",
       "       [ 0.38358493,  0.99784738]])"
      ]
     },
     "execution_count": 24,
     "metadata": {},
     "output_type": "execute_result"
    }
   ],
   "source": [
    "X_test[-5:]"
   ]
  },
  {
   "cell_type": "markdown",
   "id": "29fd74fd",
   "metadata": {},
   "source": [
    "## Train and Test using Decision Tree Algorithm"
   ]
  },
  {
   "cell_type": "code",
   "execution_count": 25,
   "id": "3db8fbfa",
   "metadata": {},
   "outputs": [],
   "source": [
    "# Fitting Decision Tree Classification to the Training set\n",
    "from sklearn.tree import DecisionTreeClassifier"
   ]
  },
  {
   "cell_type": "code",
   "execution_count": 26,
   "id": "47639fc2",
   "metadata": {},
   "outputs": [
    {
     "data": {
      "text/plain": [
       "DecisionTreeClassifier(criterion='entropy', random_state=0)"
      ]
     },
     "execution_count": 26,
     "metadata": {},
     "output_type": "execute_result"
    }
   ],
   "source": [
    "classifier = DecisionTreeClassifier(\n",
    "    criterion = 'entropy', random_state = 0\n",
    ")\n",
    "classifier.fit(X_train, y_train)"
   ]
  },
  {
   "cell_type": "code",
   "execution_count": 29,
   "id": "a96785b1",
   "metadata": {},
   "outputs": [
    {
     "data": {
      "text/plain": [
       "array([0, 0, 0, 0, 0, 0, 0, 1, 0, 0, 0, 0, 0, 1, 0, 1, 1, 0, 1, 0, 0, 1,\n",
       "       0, 1, 0, 0, 0, 0, 0, 0, 0, 0, 1, 0, 0, 0, 0, 0, 0, 1, 0, 0, 0, 0,\n",
       "       1, 0, 0, 1, 0, 1, 1, 0, 0, 1, 1, 1, 0, 0, 1, 0, 0, 1, 0, 1, 0, 1,\n",
       "       0, 0, 0, 1, 1, 0, 0, 1, 0, 0, 0, 0, 1, 1, 1, 1, 0, 0, 1, 0, 0, 1,\n",
       "       1, 0, 0, 1, 0, 0, 0, 1, 0, 1, 1, 1], dtype=int64)"
      ]
     },
     "execution_count": 29,
     "metadata": {},
     "output_type": "execute_result"
    }
   ],
   "source": [
    "# Predicting the Test set results\n",
    "y_pred = classifier.predict(X_test)\n",
    "y_pred"
   ]
  },
  {
   "cell_type": "code",
   "execution_count": 30,
   "id": "9edddab4",
   "metadata": {},
   "outputs": [],
   "source": [
    "# Making the Confusion Matrix\n",
    "from sklearn.metrics import confusion_matrix"
   ]
  },
  {
   "cell_type": "code",
   "execution_count": 31,
   "id": "f327eefd",
   "metadata": {},
   "outputs": [
    {
     "data": {
      "text/plain": [
       "array([[62,  6],\n",
       "       [ 3, 29]], dtype=int64)"
      ]
     },
     "execution_count": 31,
     "metadata": {},
     "output_type": "execute_result"
    }
   ],
   "source": [
    "cm = confusion_matrix(y_test, y_pred)\n",
    "cm"
   ]
  },
  {
   "cell_type": "markdown",
   "id": "e167046a",
   "metadata": {},
   "source": [
    "### Practice 2"
   ]
  },
  {
   "cell_type": "markdown",
   "id": "9aa88557",
   "metadata": {},
   "source": [
    "Accuracy = (TP + TN) / (TP + TN + FP + FN)"
   ]
  },
  {
   "cell_type": "markdown",
   "id": "cd09d5b6",
   "metadata": {},
   "source": [
    "## Visualize"
   ]
  },
  {
   "cell_type": "code",
   "execution_count": 33,
   "id": "416c8bdd",
   "metadata": {},
   "outputs": [],
   "source": [
    "from matplotlib.colors import ListedColormap"
   ]
  },
  {
   "cell_type": "code",
   "execution_count": 34,
   "id": "06295dcf",
   "metadata": {},
   "outputs": [
    {
     "name": "stderr",
     "output_type": "stream",
     "text": [
      "*c* argument looks like a single numeric RGB or RGBA sequence, which should be avoided as value-mapping will have precedence in case its length matches with *x* & *y*.  Please use the *color* keyword-argument or provide a 2D array with a single row if you intend to specify the same RGB or RGBA value for all points.\n",
      "*c* argument looks like a single numeric RGB or RGBA sequence, which should be avoided as value-mapping will have precedence in case its length matches with *x* & *y*.  Please use the *color* keyword-argument or provide a 2D array with a single row if you intend to specify the same RGB or RGBA value for all points.\n"
     ]
    },
    {
     "data": {
      "image/png": "[encoded data removed]",
      "text/plain": [
       "<Figure size 432x288 with 1 Axes>"
      ]
     },
     "metadata": {
      "needs_background": "light"
     },
     "output_type": "display_data"
    }
   ],
   "source": [
    "X_set, y_set = X_test, y_test\n",
    "\n",
    "X1, X2 = np.meshgrid(\n",
    "    np.arange(\n",
    "        start = X_set[:, 0].min() - 1,\n",
    "        stop = X_set[:, 0].max() + 1,\n",
    "        step = 0.01\n",
    "    ),\n",
    "    np.arange(\n",
    "        start = X_set[:, 1].min() - 1,\n",
    "        stop = X_set[:, 1].max() + 1,\n",
    "        step = 0.01\n",
    "    )\n",
    ")\n",
    "\n",
    "plt.contourf(\n",
    "    X1,\n",
    "    X2,\n",
    "    classifier.predict(\n",
    "        np.array([X1.ravel(), X2.ravel()]).T).reshape(X1.shape),\n",
    "    alpha = 0.75,\n",
    "    cmap = ListedColormap(('red', 'green'))\n",
    ")\n",
    "\n",
    "plt.xlim(X1.min(), X1.max())\n",
    "plt.ylim(X2.min(), X2.max())\n",
    "\n",
    "for i, j in enumerate(np.unique(y_set)):\n",
    "    plt.scatter(\n",
    "        X_set[y_set == j, 0],\n",
    "        X_set[y_set == j, 1],\n",
    "        c = ListedColormap(('red', 'green'))(i),\n",
    "        label = j\n",
    "    )\n",
    "    \n",
    "plt.title('Decision Tree Classification (Test set)')\n",
    "plt.xlabel('Age')\n",
    "plt.ylabel('Income')\n",
    "plt.legend()\n",
    "plt.show()"
   ]
  },
  {
   "cell_type": "markdown",
   "id": "58ba5614",
   "metadata": {},
   "source": [
    "## Train and Test using Random Forest Algorithm"
   ]
  },
  {
   "cell_type": "code",
   "execution_count": 37,
   "id": "b1a4be38",
   "metadata": {},
   "outputs": [],
   "source": [
    "from sklearn.ensemble import RandomForestClassifier\n",
    "from sklearn.metrics import confusion_matrix"
   ]
  },
  {
   "cell_type": "code",
   "execution_count": 40,
   "id": "61fa0876",
   "metadata": {},
   "outputs": [
    {
     "data": {
      "text/plain": [
       "RandomForestClassifier(criterion='entropy', n_estimators=20, random_state=0)"
      ]
     },
     "execution_count": 40,
     "metadata": {},
     "output_type": "execute_result"
    }
   ],
   "source": [
    "classifier = RandomForestClassifier(\n",
    "    n_estimators = 20,    #number of trees\n",
    "    criterion = 'entropy',\n",
    "    random_state = 0\n",
    ")\n",
    "classifier.fit(X_train, y_train)"
   ]
  },
  {
   "cell_type": "code",
   "execution_count": 41,
   "id": "e24fbc9a",
   "metadata": {},
   "outputs": [
    {
     "data": {
      "text/plain": [
       "array([[63,  5],\n",
       "       [ 3, 29]], dtype=int64)"
      ]
     },
     "execution_count": 41,
     "metadata": {},
     "output_type": "execute_result"
    }
   ],
   "source": [
    "# Predicting the Test set results\n",
    "y_pred = classifier.predict(X_test)\n",
    "\n",
    "# Making the Confusion Matrix\n",
    "cm = confusion_matrix(y_test, y_pred)\n",
    "cm"
   ]
  },
  {
   "cell_type": "markdown",
   "id": "bab64ceb",
   "metadata": {},
   "source": [
    "### Practice 3"
   ]
  },
  {
   "cell_type": "code",
   "execution_count": 43,
   "id": "af8896ef",
   "metadata": {},
   "outputs": [
    {
     "data": {
      "text/plain": [
       "array([[64,  4],\n",
       "       [ 2, 30]], dtype=int64)"
      ]
     },
     "execution_count": 43,
     "metadata": {},
     "output_type": "execute_result"
    }
   ],
   "source": [
    "classifier = RandomForestClassifier(\n",
    "    n_estimators = 40,    #number of trees\n",
    "    criterion = 'entropy',\n",
    "    random_state = 0\n",
    ")\n",
    "classifier.fit(X_train, y_train)\n",
    "\n",
    "# Predicting the Test set results\n",
    "y_pred = classifier.predict(X_test)\n",
    "\n",
    "# Making the Confusion Matrix\n",
    "cm = confusion_matrix(y_test, y_pred)\n",
    "cm"
   ]
  },
  {
   "cell_type": "markdown",
   "id": "99663966",
   "metadata": {},
   "source": [
    "# Activity 2: Clustering"
   ]
  },
  {
   "cell_type": "code",
   "execution_count": 44,
   "id": "2529bb74",
   "metadata": {},
   "outputs": [],
   "source": [
    "import pandas as pd\n",
    "import matplotlib.pyplot as plt\n",
    "%matplotlib inline\n",
    "\n",
    "# Load the dataset\n",
    "df = pd.read_csv('Drivers.csv')"
   ]
  },
  {
   "cell_type": "code",
   "execution_count": 45,
   "id": "19813f6a",
   "metadata": {},
   "outputs": [
    {
     "data": {
      "text/html": [
       "<div>\n",
       "<style scoped>\n",
       "    .dataframe tbody tr th:only-of-type {\n",
       "        vertical-align: middle;\n",
       "    }\n",
       "\n",
       "    .dataframe tbody tr th {\n",
       "        vertical-align: top;\n",
       "    }\n",
       "\n",
       "    .dataframe thead th {\n",
       "        text-align: right;\n",
       "    }\n",
       "</style>\n",
       "<table border=\"1\" class=\"dataframe\">\n",
       "  <thead>\n",
       "    <tr style=\"text-align: right;\">\n",
       "      <th></th>\n",
       "      <th>Driver_ID</th>\n",
       "      <th>Distance_Feature</th>\n",
       "      <th>Speeding_Feature</th>\n",
       "    </tr>\n",
       "  </thead>\n",
       "  <tbody>\n",
       "    <tr>\n",
       "      <th>0</th>\n",
       "      <td>3423311935</td>\n",
       "      <td>71.24</td>\n",
       "      <td>28</td>\n",
       "    </tr>\n",
       "    <tr>\n",
       "      <th>1</th>\n",
       "      <td>3423313212</td>\n",
       "      <td>52.53</td>\n",
       "      <td>25</td>\n",
       "    </tr>\n",
       "    <tr>\n",
       "      <th>2</th>\n",
       "      <td>3423313724</td>\n",
       "      <td>64.54</td>\n",
       "      <td>27</td>\n",
       "    </tr>\n",
       "    <tr>\n",
       "      <th>3</th>\n",
       "      <td>3423311373</td>\n",
       "      <td>55.69</td>\n",
       "      <td>22</td>\n",
       "    </tr>\n",
       "    <tr>\n",
       "      <th>4</th>\n",
       "      <td>3423310999</td>\n",
       "      <td>54.58</td>\n",
       "      <td>25</td>\n",
       "    </tr>\n",
       "  </tbody>\n",
       "</table>\n",
       "</div>"
      ],
      "text/plain": [
       "    Driver_ID  Distance_Feature  Speeding_Feature\n",
       "0  3423311935             71.24                28\n",
       "1  3423313212             52.53                25\n",
       "2  3423313724             64.54                27\n",
       "3  3423311373             55.69                22\n",
       "4  3423310999             54.58                25"
      ]
     },
     "execution_count": 45,
     "metadata": {},
     "output_type": "execute_result"
    }
   ],
   "source": [
    "df.head()"
   ]
  },
  {
   "cell_type": "code",
   "execution_count": 46,
   "id": "aa074a05",
   "metadata": {},
   "outputs": [
    {
     "data": {
      "text/plain": [
       "(4000, 3)"
      ]
     },
     "execution_count": 46,
     "metadata": {},
     "output_type": "execute_result"
    }
   ],
   "source": [
    "# Check the dataset dimension\n",
    "df.shape"
   ]
  },
  {
   "cell_type": "markdown",
   "id": "b4b14e4f",
   "metadata": {},
   "source": [
    "## Visualise"
   ]
  },
  {
   "cell_type": "code",
   "execution_count": 47,
   "id": "fea35064",
   "metadata": {},
   "outputs": [
    {
     "data": {
      "text/plain": [
       "Text(0, 0.5, 'Speeding_Feature')"
      ]
     },
     "execution_count": 47,
     "metadata": {},
     "output_type": "execute_result"
    },
    {
     "data": {
      "image/png": "[encoded data removed]",
      "text/plain": [
       "<Figure size 432x288 with 1 Axes>"
      ]
     },
     "metadata": {
      "needs_background": "light"
     },
     "output_type": "display_data"
    }
   ],
   "source": [
    "#Visualise the dataset (Distance vs Speeding)\n",
    "plt.scatter(x=df['Distance_Feature'],y=df['Speeding_Feature'])\n",
    "plt.xlabel('Distance_Feature')\n",
    "plt.ylabel('Speeding_Feature')"
   ]
  },
  {
   "cell_type": "code",
   "execution_count": null,
   "id": "8446d023",
   "metadata": {},
   "outputs": [],
   "source": []
  }
 ],
 "metadata": {
  "kernelspec": {
   "display_name": "Python 3 (ipykernel)",
   "language": "python",
   "name": "python3"
  },
  "language_info": {
   "codemirror_mode": {
    "name": "ipython",
    "version": 3
   },
   "file_extension": ".py",
   "mimetype": "text/x-python",
   "name": "python",
   "nbconvert_exporter": "python",
   "pygments_lexer": "ipython3",
   "version": "3.9.12"
  }
 },
 "nbformat": 4,
 "nbformat_minor": 5
}
