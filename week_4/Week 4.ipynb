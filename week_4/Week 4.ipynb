{
 "cells": [
  {
   "cell_type": "code",
   "execution_count": 1,
   "id": "35e84bb6",
   "metadata": {},
   "outputs": [],
   "source": [
    "import pandas as pd\n",
    "df = pd.read_fwf('Patients.txt', colspecs='infer', header=None)"
   ]
  },
  {
   "cell_type": "code",
   "execution_count": 2,
   "id": "40b43574",
   "metadata": {},
   "outputs": [
    {
     "name": "stdout",
     "output_type": "stream",
     "text": [
      "                          0   1\n",
      "0   001M11/11/1998 88140 80  10\n",
      "1   016F11/13/1998 84120 78  X0\n",
      "2   033X10/21/1998 68190100  31\n",
      "3   004F01/01/1999101200120  5A\n",
      "4   XX5M05/07/1998 68120 80  10\n",
      "5   006 06/15/1999 72102 68  61\n",
      "6   007M08/32/1998 88148102   0\n",
      "7         008F08/08/1998210  70\n",
      "8   009M09/25/1999 86240180  41\n",
      "9      010F10/19/1999 40120  10\n",
      "10  011M13/13/1998 68300 20  41\n",
      "11  012M10/12/98   60122 74   0\n",
      "12  013208/23/1999 74108 64   1\n",
      "13  014M02/02/1999 22130 90   1\n",
      "14  002f11/13/1998 84120 78  X0\n",
      "15  003M11/12/1999 58112 74   0\n",
      "16  015F           82148 88  31\n",
      "17     017F04/05/1999208 84  20\n",
      "18  019M06/07/1999 58118 70   0\n",
      "19        123M15/12/1999 60  10\n",
      "20  321f          900400200  51\n",
      "21   020F99/99/9999 10 20 8   0\n",
      "22  022M10/10/1999 48114 82  21\n",
      "23  023F12/31/1998 22 34 78   0\n",
      "24  024F11/09/199876 120 80  10\n",
      "25  025M01/01/1999 74102 68  51\n",
      "26  027FNOTAVAIL  NA 166106  70\n",
      "27  028F03/28/1998 66150 90  30\n",
      "28           029M05/15/1998  41\n",
      "29  006F07/07/1999 82148 84  10\n"
     ]
    }
   ],
   "source": [
    "print(df)"
   ]
  },
  {
   "cell_type": "code",
   "execution_count": 3,
   "id": "2d25de80",
   "metadata": {},
   "outputs": [],
   "source": [
    "# 1. Reading the File"
   ]
  },
  {
   "cell_type": "code",
   "execution_count": 4,
   "id": "015ec119",
   "metadata": {},
   "outputs": [],
   "source": [
    "df = pd.read_fwf('Patients.txt', widths=[3,1,10,3,3,3,3,1],header=None)"
   ]
  },
  {
   "cell_type": "code",
   "execution_count": 5,
   "id": "807ddf0f",
   "metadata": {},
   "outputs": [
    {
     "data": {
      "text/html": [
       "<div>\n",
       "<style scoped>\n",
       "    .dataframe tbody tr th:only-of-type {\n",
       "        vertical-align: middle;\n",
       "    }\n",
       "\n",
       "    .dataframe tbody tr th {\n",
       "        vertical-align: top;\n",
       "    }\n",
       "\n",
       "    .dataframe thead th {\n",
       "        text-align: right;\n",
       "    }\n",
       "</style>\n",
       "<table border=\"1\" class=\"dataframe\">\n",
       "  <thead>\n",
       "    <tr style=\"text-align: right;\">\n",
       "      <th></th>\n",
       "      <th>0</th>\n",
       "      <th>1</th>\n",
       "      <th>2</th>\n",
       "      <th>3</th>\n",
       "      <th>4</th>\n",
       "      <th>5</th>\n",
       "      <th>6</th>\n",
       "      <th>7</th>\n",
       "    </tr>\n",
       "  </thead>\n",
       "  <tbody>\n",
       "    <tr>\n",
       "      <th>0</th>\n",
       "      <td>001</td>\n",
       "      <td>M</td>\n",
       "      <td>11/11/1998</td>\n",
       "      <td>88.0</td>\n",
       "      <td>140.0</td>\n",
       "      <td>80.0</td>\n",
       "      <td>1</td>\n",
       "      <td>0</td>\n",
       "    </tr>\n",
       "    <tr>\n",
       "      <th>1</th>\n",
       "      <td>016</td>\n",
       "      <td>F</td>\n",
       "      <td>11/13/1998</td>\n",
       "      <td>84.0</td>\n",
       "      <td>120.0</td>\n",
       "      <td>78.0</td>\n",
       "      <td>X</td>\n",
       "      <td>0</td>\n",
       "    </tr>\n",
       "    <tr>\n",
       "      <th>2</th>\n",
       "      <td>033</td>\n",
       "      <td>X</td>\n",
       "      <td>10/21/1998</td>\n",
       "      <td>68.0</td>\n",
       "      <td>190.0</td>\n",
       "      <td>100.0</td>\n",
       "      <td>3</td>\n",
       "      <td>1</td>\n",
       "    </tr>\n",
       "    <tr>\n",
       "      <th>3</th>\n",
       "      <td>004</td>\n",
       "      <td>F</td>\n",
       "      <td>01/01/1999</td>\n",
       "      <td>101.0</td>\n",
       "      <td>200.0</td>\n",
       "      <td>120.0</td>\n",
       "      <td>5</td>\n",
       "      <td>A</td>\n",
       "    </tr>\n",
       "    <tr>\n",
       "      <th>4</th>\n",
       "      <td>XX5</td>\n",
       "      <td>M</td>\n",
       "      <td>05/07/1998</td>\n",
       "      <td>68.0</td>\n",
       "      <td>120.0</td>\n",
       "      <td>80.0</td>\n",
       "      <td>1</td>\n",
       "      <td>0</td>\n",
       "    </tr>\n",
       "  </tbody>\n",
       "</table>\n",
       "</div>"
      ],
      "text/plain": [
       "     0  1           2      3      4      5  6  7\n",
       "0  001  M  11/11/1998   88.0  140.0   80.0  1  0\n",
       "1  016  F  11/13/1998   84.0  120.0   78.0  X  0\n",
       "2  033  X  10/21/1998   68.0  190.0  100.0  3  1\n",
       "3  004  F  01/01/1999  101.0  200.0  120.0  5  A\n",
       "4  XX5  M  05/07/1998   68.0  120.0   80.0  1  0"
      ]
     },
     "execution_count": 5,
     "metadata": {},
     "output_type": "execute_result"
    }
   ],
   "source": [
    "df.head()"
   ]
  },
  {
   "cell_type": "code",
   "execution_count": 6,
   "id": "7cb30e20",
   "metadata": {},
   "outputs": [],
   "source": [
    "### Practice 1"
   ]
  },
  {
   "cell_type": "code",
   "execution_count": 8,
   "id": "43a8c6e5",
   "metadata": {},
   "outputs": [
    {
     "data": {
      "text/plain": [
       "(30, 8)"
      ]
     },
     "execution_count": 8,
     "metadata": {},
     "output_type": "execute_result"
    }
   ],
   "source": [
    "df.shape"
   ]
  },
  {
   "cell_type": "markdown",
   "id": "b78b0be9",
   "metadata": {},
   "source": [
    "### Practice 2"
   ]
  },
  {
   "cell_type": "code",
   "execution_count": 10,
   "id": "f67f7f52",
   "metadata": {},
   "outputs": [],
   "source": [
    "df.columns = ['ID', 'Gender', 'Visit', 'HR', 'SBP', 'DBP', 'DX','AE']"
   ]
  },
  {
   "cell_type": "code",
   "execution_count": 11,
   "id": "ce33cb38",
   "metadata": {},
   "outputs": [
    {
     "data": {
      "text/html": [
       "<div>\n",
       "<style scoped>\n",
       "    .dataframe tbody tr th:only-of-type {\n",
       "        vertical-align: middle;\n",
       "    }\n",
       "\n",
       "    .dataframe tbody tr th {\n",
       "        vertical-align: top;\n",
       "    }\n",
       "\n",
       "    .dataframe thead th {\n",
       "        text-align: right;\n",
       "    }\n",
       "</style>\n",
       "<table border=\"1\" class=\"dataframe\">\n",
       "  <thead>\n",
       "    <tr style=\"text-align: right;\">\n",
       "      <th></th>\n",
       "      <th>ID</th>\n",
       "      <th>Gender</th>\n",
       "      <th>Visit</th>\n",
       "      <th>HR</th>\n",
       "      <th>SBP</th>\n",
       "      <th>DBP</th>\n",
       "      <th>DX</th>\n",
       "      <th>AE</th>\n",
       "    </tr>\n",
       "  </thead>\n",
       "  <tbody>\n",
       "    <tr>\n",
       "      <th>0</th>\n",
       "      <td>001</td>\n",
       "      <td>M</td>\n",
       "      <td>11/11/1998</td>\n",
       "      <td>88.0</td>\n",
       "      <td>140.0</td>\n",
       "      <td>80.0</td>\n",
       "      <td>1</td>\n",
       "      <td>0</td>\n",
       "    </tr>\n",
       "    <tr>\n",
       "      <th>1</th>\n",
       "      <td>016</td>\n",
       "      <td>F</td>\n",
       "      <td>11/13/1998</td>\n",
       "      <td>84.0</td>\n",
       "      <td>120.0</td>\n",
       "      <td>78.0</td>\n",
       "      <td>X</td>\n",
       "      <td>0</td>\n",
       "    </tr>\n",
       "    <tr>\n",
       "      <th>2</th>\n",
       "      <td>033</td>\n",
       "      <td>X</td>\n",
       "      <td>10/21/1998</td>\n",
       "      <td>68.0</td>\n",
       "      <td>190.0</td>\n",
       "      <td>100.0</td>\n",
       "      <td>3</td>\n",
       "      <td>1</td>\n",
       "    </tr>\n",
       "    <tr>\n",
       "      <th>3</th>\n",
       "      <td>004</td>\n",
       "      <td>F</td>\n",
       "      <td>01/01/1999</td>\n",
       "      <td>101.0</td>\n",
       "      <td>200.0</td>\n",
       "      <td>120.0</td>\n",
       "      <td>5</td>\n",
       "      <td>A</td>\n",
       "    </tr>\n",
       "    <tr>\n",
       "      <th>4</th>\n",
       "      <td>XX5</td>\n",
       "      <td>M</td>\n",
       "      <td>05/07/1998</td>\n",
       "      <td>68.0</td>\n",
       "      <td>120.0</td>\n",
       "      <td>80.0</td>\n",
       "      <td>1</td>\n",
       "      <td>0</td>\n",
       "    </tr>\n",
       "  </tbody>\n",
       "</table>\n",
       "</div>"
      ],
      "text/plain": [
       "    ID Gender       Visit     HR    SBP    DBP DX AE\n",
       "0  001      M  11/11/1998   88.0  140.0   80.0  1  0\n",
       "1  016      F  11/13/1998   84.0  120.0   78.0  X  0\n",
       "2  033      X  10/21/1998   68.0  190.0  100.0  3  1\n",
       "3  004      F  01/01/1999  101.0  200.0  120.0  5  A\n",
       "4  XX5      M  05/07/1998   68.0  120.0   80.0  1  0"
      ]
     },
     "execution_count": 11,
     "metadata": {},
     "output_type": "execute_result"
    }
   ],
   "source": [
    "df.head()"
   ]
  },
  {
   "cell_type": "markdown",
   "id": "495a4916",
   "metadata": {},
   "source": [
    "## 1.1 Visualizing the Data"
   ]
  },
  {
   "cell_type": "code",
   "execution_count": 13,
   "id": "f510e713",
   "metadata": {
    "scrolled": true
   },
   "outputs": [
    {
     "data": {
      "text/plain": [
       "0     140.0\n",
       "1     120.0\n",
       "2     190.0\n",
       "3     200.0\n",
       "4     120.0\n",
       "5     102.0\n",
       "6     148.0\n",
       "7       NaN\n",
       "8     240.0\n",
       "9     120.0\n",
       "10    300.0\n",
       "11    122.0\n",
       "12    108.0\n",
       "13    130.0\n",
       "14    120.0\n",
       "15    112.0\n",
       "16    148.0\n",
       "17     84.0\n",
       "18    118.0\n",
       "19      NaN\n",
       "20    400.0\n",
       "21     20.0\n",
       "22    114.0\n",
       "23     34.0\n",
       "24    120.0\n",
       "25    102.0\n",
       "26    166.0\n",
       "27    150.0\n",
       "28      NaN\n",
       "29    148.0\n",
       "Name: SBP, dtype: float64"
      ]
     },
     "execution_count": 13,
     "metadata": {},
     "output_type": "execute_result"
    }
   ],
   "source": [
    "df['SBP']"
   ]
  },
  {
   "cell_type": "markdown",
   "id": "bd75cb86",
   "metadata": {},
   "source": [
    "### Practice 3-4"
   ]
  },
  {
   "cell_type": "code",
   "execution_count": 18,
   "id": "4f85b849",
   "metadata": {},
   "outputs": [],
   "source": [
    "%matplotlib inline\n",
    "import matplotlib.pyplot as plt"
   ]
  },
  {
   "cell_type": "code",
   "execution_count": 19,
   "id": "46f79294",
   "metadata": {},
   "outputs": [
    {
     "data": {
      "image/png": "[encoded data removed]",
      "text/plain": [
       "<Figure size 432x288 with 1 Axes>"
      ]
     },
     "metadata": {
      "needs_background": "light"
     },
     "output_type": "display_data"
    }
   ],
   "source": [
    "plt.scatter(df['HR'], df['SBP'])\n",
    "plt.xlabel('Heart Rate (HR)')\n",
    "plt.ylabel('Systolic Blood Pressure (SBP)')\n",
    "plt.show()"
   ]
  },
  {
   "cell_type": "code",
   "execution_count": 22,
   "id": "2f206bbc",
   "metadata": {},
   "outputs": [
    {
     "data": {
      "image/png": "[encoded data removed]",
      "text/plain": [
       "<Figure size 432x288 with 1 Axes>"
      ]
     },
     "metadata": {
      "needs_background": "light"
     },
     "output_type": "display_data"
    }
   ],
   "source": [
    "plt.scatter(df['HR'],df['SBP'], c=df['DBP'], s=40, cmap='hot') \n",
    "plt.xlabel('Heart Rate (HR)')\n",
    "plt.ylabel('Systolic Blood Pressure (SBP)')\n",
    "plt.show()\n",
    "\n",
    "# white color is not visible here (be careful on type of color map used)"
   ]
  },
  {
   "cell_type": "markdown",
   "id": "1e77edb6",
   "metadata": {},
   "source": [
    "## 1.2 Substituting Values"
   ]
  },
  {
   "cell_type": "code",
   "execution_count": null,
   "id": "e9eccb72",
   "metadata": {},
   "outputs": [],
   "source": []
  }
 ],
 "metadata": {
  "kernelspec": {
   "display_name": "Python 3 (ipykernel)",
   "language": "python",
   "name": "python3"
  },
  "language_info": {
   "codemirror_mode": {
    "name": "ipython",
    "version": 3
   },
   "file_extension": ".py",
   "mimetype": "text/x-python",
   "name": "python",
   "nbconvert_exporter": "python",
   "pygments_lexer": "ipython3",
   "version": "3.9.12"
  }
 },
 "nbformat": 4,
 "nbformat_minor": 5
}
